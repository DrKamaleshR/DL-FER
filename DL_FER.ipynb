{
  "nbformat": 4,
  "nbformat_minor": 0,
  "metadata": {
    "colab": {
      "name": "DL-FER.ipynb",
      "provenance": [],
      "authorship_tag": "ABX9TyMkR2qvI2GIahRn83NK56jV",
      "include_colab_link": true
    },
    "kernelspec": {
      "name": "python3",
      "display_name": "Python 3"
    },
    "language_info": {
      "name": "python"
    }
  },
  "cells": [
    {
      "cell_type": "markdown",
      "metadata": {
        "id": "view-in-github",
        "colab_type": "text"
      },
      "source": [
        "<a href=\"https://colab.research.google.com/github/DrKamaleshR/DL-FER/blob/main/DL_FER.ipynb\" target=\"_parent\"><img src=\"https://colab.research.google.com/assets/colab-badge.svg\" alt=\"Open In Colab\"/></a>"
      ]
    },
    {
      "cell_type": "code",
      "execution_count": 1,
      "metadata": {
        "colab": {
          "base_uri": "https://localhost:8080/"
        },
        "id": "xaeT6bQrRqPA",
        "outputId": "6a229958-534c-4016-e281-5de8cdd2da9e"
      },
      "outputs": [
        {
          "output_type": "stream",
          "name": "stdout",
          "text": [
            "Mounted at /content/drive\n"
          ]
        }
      ],
      "source": [
        "from google.colab import drive\n",
        "drive.mount('/content/drive')"
      ]
    },
    {
      "cell_type": "code",
      "source": [
        "!pip install scikit-plot"
      ],
      "metadata": {
        "colab": {
          "base_uri": "https://localhost:8080/"
        },
        "id": "yOT1zNYQR08f",
        "outputId": "3f6c305c-7426-49dc-a5ef-5bdbe3ccf08b"
      },
      "execution_count": 2,
      "outputs": [
        {
          "output_type": "stream",
          "name": "stdout",
          "text": [
            "Collecting scikit-plot\n",
            "  Downloading scikit_plot-0.3.7-py3-none-any.whl (33 kB)\n",
            "Requirement already satisfied: matplotlib>=1.4.0 in /usr/local/lib/python3.7/dist-packages (from scikit-plot) (3.2.2)\n",
            "Requirement already satisfied: joblib>=0.10 in /usr/local/lib/python3.7/dist-packages (from scikit-plot) (1.1.0)\n",
            "Requirement already satisfied: scikit-learn>=0.18 in /usr/local/lib/python3.7/dist-packages (from scikit-plot) (1.0.2)\n",
            "Requirement already satisfied: scipy>=0.9 in /usr/local/lib/python3.7/dist-packages (from scikit-plot) (1.4.1)\n",
            "Requirement already satisfied: cycler>=0.10 in /usr/local/lib/python3.7/dist-packages (from matplotlib>=1.4.0->scikit-plot) (0.11.0)\n",
            "Requirement already satisfied: pyparsing!=2.0.4,!=2.1.2,!=2.1.6,>=2.0.1 in /usr/local/lib/python3.7/dist-packages (from matplotlib>=1.4.0->scikit-plot) (3.0.7)\n",
            "Requirement already satisfied: kiwisolver>=1.0.1 in /usr/local/lib/python3.7/dist-packages (from matplotlib>=1.4.0->scikit-plot) (1.4.0)\n",
            "Requirement already satisfied: numpy>=1.11 in /usr/local/lib/python3.7/dist-packages (from matplotlib>=1.4.0->scikit-plot) (1.21.5)\n",
            "Requirement already satisfied: python-dateutil>=2.1 in /usr/local/lib/python3.7/dist-packages (from matplotlib>=1.4.0->scikit-plot) (2.8.2)\n",
            "Requirement already satisfied: typing-extensions in /usr/local/lib/python3.7/dist-packages (from kiwisolver>=1.0.1->matplotlib>=1.4.0->scikit-plot) (3.10.0.2)\n",
            "Requirement already satisfied: six>=1.5 in /usr/local/lib/python3.7/dist-packages (from python-dateutil>=2.1->matplotlib>=1.4.0->scikit-plot) (1.15.0)\n",
            "Requirement already satisfied: threadpoolctl>=2.0.0 in /usr/local/lib/python3.7/dist-packages (from scikit-learn>=0.18->scikit-plot) (3.1.0)\n",
            "Installing collected packages: scikit-plot\n",
            "Successfully installed scikit-plot-0.3.7\n"
          ]
        }
      ]
    },
    {
      "cell_type": "code",
      "source": [
        "import os\n",
        "import cv2\n",
        "import math\n",
        "import numpy as np\n",
        "import pandas as pd\n",
        "\n",
        "import scikitplot\n",
        "import seaborn as sns\n",
        "from matplotlib import pyplot\n",
        "\n",
        "from sklearn.model_selection import train_test_split\n",
        "from sklearn.metrics import classification_report\n",
        "\n",
        "import tensorflow as tf\n",
        "from tensorflow.keras import optimizers\n",
        "from tensorflow.keras.models import Model\n",
        "from tensorflow.keras.layers import Flatten, Dense, GlobalAvgPool2D, GlobalMaxPool2D\n",
        "from tensorflow.keras.callbacks import Callback, EarlyStopping, ReduceLROnPlateau\n",
        "from tensorflow.keras.preprocessing.image import ImageDataGenerator\n",
        "from tensorflow.keras.applications.mobilenet import MobileNet\n",
        "from tensorflow.keras.utils import plot_model\n",
        "\n",
        "from keras.utils import np_utils"
      ],
      "metadata": {
        "id": "LJCbhLMZR-4h"
      },
      "execution_count": 3,
      "outputs": []
    },
    {
      "cell_type": "code",
      "execution_count": 4,
      "metadata": {
        "id": "BsHrQxanV-pe"
      },
      "outputs": [],
      "source": [
        "train_dir = \"/content/drive/MyDrive/contentdrive/FER13/train\"\n",
        "test_dir = \"/content/drive/MyDrive/contentdrive/FER13/test\"\n",
        "\n",
        "SEED = 12\n",
        "IMG_HEIGHT = 48\n",
        "IMG_WIDTH = 48\n",
        "BATCH_SIZE = 64\n",
        "EPOCHS = 30\n",
        "FINE_TUNING_EPOCHS = 20\n",
        "LR = 0.01\n",
        "NUM_CLASSES = 7\n",
        "EARLY_STOPPING_CRITERIA=3\n",
        "CLASS_LABELS  = ['Anger', 'Disgust', 'Fear', 'Happy', 'Neutral', 'Sadness', \"Surprise\"]\n"
      ]
    },
    {
      "cell_type": "code",
      "source": [
        "!ls -l /content/drive/MyDrive/contentdrive/FER13/train"
      ],
      "metadata": {
        "colab": {
          "base_uri": "https://localhost:8080/"
        },
        "id": "h-GKUy5LSLHx",
        "outputId": "296383c9-454e-4a2c-a91a-e7604e9107dc"
      },
      "execution_count": 33,
      "outputs": [
        {
          "output_type": "stream",
          "name": "stdout",
          "text": [
            "total 28\n",
            "drwx------ 2 root root 4096 Mar 30 13:51 angry\n",
            "drwx------ 2 root root 4096 Mar 30 13:51 disgust\n",
            "drwx------ 2 root root 4096 Mar 30 13:51 fear\n",
            "drwx------ 2 root root 4096 Mar 30 13:51 happy\n",
            "drwx------ 2 root root 4096 Mar 30 13:51 neutral\n",
            "drwx------ 2 root root 4096 Mar 30 13:51 sad\n",
            "drwx------ 2 root root 4096 Mar 30 13:51 surprise\n"
          ]
        }
      ]
    },
    {
      "cell_type": "code",
      "source": [
        "INPUT_PATH = \"/content/drive/MyDrive/contentdrive/FER13/train\"\n"
      ],
      "metadata": {
        "id": "_GEAfxa7m_2K"
      },
      "execution_count": 32,
      "outputs": []
    },
    {
      "cell_type": "code",
      "source": [
        "os.listdir(INPUT_PATH)"
      ],
      "metadata": {
        "colab": {
          "base_uri": "https://localhost:8080/"
        },
        "id": "hrY7r_zPYRiu",
        "outputId": "b0144c46-93b1-4dc1-8125-71476fe9a80c"
      },
      "execution_count": 28,
      "outputs": [
        {
          "output_type": "execute_result",
          "data": {
            "text/plain": [
              "['.DS_Store',\n",
              " 'happy',\n",
              " 'sad',\n",
              " 'angry',\n",
              " 'disgust',\n",
              " 'neutral',\n",
              " 'fear',\n",
              " 'surprise']"
            ]
          },
          "metadata": {},
          "execution_count": 28
        }
      ]
    },
    {
      "cell_type": "code",
      "source": [
        "Final_emotions = ['fear','angry','neutral','happy','disgust','sad','surprise']"
      ],
      "metadata": {
        "id": "FhDYJk_SY9dz"
      },
      "execution_count": 11,
      "outputs": []
    },
    {
      "cell_type": "code",
      "source": [
        "total_images = 0\n",
        "for dir in os.listdir(INPUT_PATH):\n",
        "    count = 0\n",
        "    for f in os.listdir(INPUT_PATH+ \"/\"):\n",
        "        count += 1\n",
        "        total_images += 1\n",
        "    print(f\"{dir} has {count} number of images\")\n",
        "    \n",
        "print(f\"\\ntotal images are {total_images}\")"
      ],
      "metadata": {
        "colab": {
          "base_uri": "https://localhost:8080/"
        },
        "id": "W_9j46njnU3A",
        "outputId": "2efec8f6-f1bf-48d6-aab3-09699e4b2f34"
      },
      "execution_count": 35,
      "outputs": [
        {
          "output_type": "stream",
          "name": "stdout",
          "text": [
            ".DS_Store has 8 number of images\n",
            "happy has 8 number of images\n",
            "sad has 8 number of images\n",
            "angry has 8 number of images\n",
            "disgust has 8 number of images\n",
            "neutral has 8 number of images\n",
            "fear has 8 number of images\n",
            "surprise has 8 number of images\n",
            "\n",
            "total images are 64\n"
          ]
        }
      ]
    },
    {
      "cell_type": "code",
      "source": [
        "img_arr = np.empty(shape=(total_images,48,48,3))\n",
        "img_label = np.empty(shape=(total_images))\n",
        "label_to_text = {}\n",
        "\n",
        "i = 0\n",
        "e = 0\n",
        "for dir_ in os.listdir(INPUT_PATH):\n",
        "    if dir_ in Final_emotions:\n",
        "        label_to_text[e] = dir_\n",
        "        for f in os.listdir(INPUT_PATH + dir_ + \"/\"):\n",
        "            img_arr[i] = cv2.imread(INPUT_PATH + dir_ + \"/\" + f)\n",
        "            img_label[i] = e\n",
        "            i += 1\n",
        "        print(f\"loaded all {dir_} images to numpy arrays\")\n",
        "        e += 1\n",
        "\n",
        "img_arr.shape, img_label"
      ],
      "metadata": {
        "colab": {
          "base_uri": "https://localhost:8080/",
          "height": 240
        },
        "id": "RO1HLVLGY437",
        "outputId": "e18a329f-65b7-4efd-9887-d41ac463b0bf"
      },
      "execution_count": 12,
      "outputs": [
        {
          "output_type": "error",
          "ename": "FileNotFoundError",
          "evalue": "ignored",
          "traceback": [
            "\u001b[0;31m---------------------------------------------------------------------------\u001b[0m",
            "\u001b[0;31mFileNotFoundError\u001b[0m                         Traceback (most recent call last)",
            "\u001b[0;32m<ipython-input-12-24014547ea40>\u001b[0m in \u001b[0;36m<module>\u001b[0;34m()\u001b[0m\n\u001b[1;32m      8\u001b[0m     \u001b[0;32mif\u001b[0m \u001b[0mdir_\u001b[0m \u001b[0;32min\u001b[0m \u001b[0mFinal_emotions\u001b[0m\u001b[0;34m:\u001b[0m\u001b[0;34m\u001b[0m\u001b[0;34m\u001b[0m\u001b[0m\n\u001b[1;32m      9\u001b[0m         \u001b[0mlabel_to_text\u001b[0m\u001b[0;34m[\u001b[0m\u001b[0me\u001b[0m\u001b[0;34m]\u001b[0m \u001b[0;34m=\u001b[0m \u001b[0mdir_\u001b[0m\u001b[0;34m\u001b[0m\u001b[0;34m\u001b[0m\u001b[0m\n\u001b[0;32m---> 10\u001b[0;31m         \u001b[0;32mfor\u001b[0m \u001b[0mf\u001b[0m \u001b[0;32min\u001b[0m \u001b[0mos\u001b[0m\u001b[0;34m.\u001b[0m\u001b[0mlistdir\u001b[0m\u001b[0;34m(\u001b[0m\u001b[0mINPUT_PATH\u001b[0m \u001b[0;34m+\u001b[0m \u001b[0mdir_\u001b[0m \u001b[0;34m+\u001b[0m \u001b[0;34m\"/\"\u001b[0m\u001b[0;34m)\u001b[0m\u001b[0;34m:\u001b[0m\u001b[0;34m\u001b[0m\u001b[0;34m\u001b[0m\u001b[0m\n\u001b[0m\u001b[1;32m     11\u001b[0m             \u001b[0mimg_arr\u001b[0m\u001b[0;34m[\u001b[0m\u001b[0mi\u001b[0m\u001b[0;34m]\u001b[0m \u001b[0;34m=\u001b[0m \u001b[0mcv2\u001b[0m\u001b[0;34m.\u001b[0m\u001b[0mimread\u001b[0m\u001b[0;34m(\u001b[0m\u001b[0mINPUT_PATH\u001b[0m \u001b[0;34m+\u001b[0m \u001b[0mdir_\u001b[0m \u001b[0;34m+\u001b[0m \u001b[0;34m\"/\"\u001b[0m \u001b[0;34m+\u001b[0m \u001b[0mf\u001b[0m\u001b[0;34m)\u001b[0m\u001b[0;34m\u001b[0m\u001b[0;34m\u001b[0m\u001b[0m\n\u001b[1;32m     12\u001b[0m             \u001b[0mimg_label\u001b[0m\u001b[0;34m[\u001b[0m\u001b[0mi\u001b[0m\u001b[0;34m]\u001b[0m \u001b[0;34m=\u001b[0m \u001b[0me\u001b[0m\u001b[0;34m\u001b[0m\u001b[0;34m\u001b[0m\u001b[0m\n",
            "\u001b[0;31mFileNotFoundError\u001b[0m: [Errno 2] No such file or directory: '/content/drive/MyDrive/contentdrive/FER13/testdisgust/'"
          ]
        }
      ]
    },
    {
      "cell_type": "code",
      "source": [
        "preprocess_fun = tf.keras.applications.densenet.preprocess_input\n",
        "\n",
        "train_datagen = ImageDataGenerator(horizontal_flip=True,\n",
        "                                   width_shift_range=0.1,\n",
        "                                   height_shift_range=0.05,\n",
        "                                   rescale = 1./255,\n",
        "                                   validation_split = 0.2,\n",
        "                                   preprocessing_function=preprocess_fun\n",
        "                                  )\n",
        "test_datagen = ImageDataGenerator(rescale = 1./255,\n",
        "                                  validation_split = 0.2,\n",
        "                                  preprocessing_function=preprocess_fun)\n",
        "train_generator = train_datagen.flow_from_directory(directory = train_dir,\n",
        "                                                    target_size = (IMG_HEIGHT ,IMG_WIDTH),\n",
        "                                                    batch_size = BATCH_SIZE,\n",
        "                                                    shuffle  = True , \n",
        "                                                    color_mode = \"rgb\",\n",
        "                                                    class_mode = \"categorical\",\n",
        "                                                    subset = \"training\",\n",
        "                                                    seed = 12\n",
        "                                                   )\n",
        "validation_generator = test_datagen.flow_from_directory(directory = train_dir,\n",
        "                                                         target_size = (IMG_HEIGHT ,IMG_WIDTH),\n",
        "                                                         batch_size = BATCH_SIZE,\n",
        "                                                         shuffle  = True , \n",
        "                                                         color_mode = \"rgb\",\n",
        "                                                         class_mode = \"categorical\",\n",
        "                                                         subset = \"validation\",\n",
        "                                                         seed = 12\n",
        "                                                        )\n",
        "test_generator = test_datagen.flow_from_directory(directory = test_dir,\n",
        "                                                   target_size = (IMG_HEIGHT ,IMG_WIDTH),\n",
        "                                                    batch_size = BATCH_SIZE,\n",
        "                                                    shuffle  = False , \n",
        "                                                    color_mode = \"rgb\",\n",
        "                                                    class_mode = \"categorical\",\n",
        "                                                    seed = 12\n",
        "                                                  )"
      ],
      "metadata": {
        "colab": {
          "base_uri": "https://localhost:8080/"
        },
        "id": "W2BuwI5GXaKY",
        "outputId": "e93d8e3c-0956-4b3f-e420-af7970cc2a51"
      },
      "execution_count": 8,
      "outputs": [
        {
          "output_type": "stream",
          "name": "stdout",
          "text": [
            "Found 23192 images belonging to 7 classes.\n",
            "Found 5797 images belonging to 7 classes.\n",
            "Found 7248 images belonging to 7 classes.\n"
          ]
        }
      ]
    }
  ]
}