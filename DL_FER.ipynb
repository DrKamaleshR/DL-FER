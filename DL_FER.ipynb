{
  "nbformat": 4,
  "nbformat_minor": 0,
  "metadata": {
    "colab": {
      "name": "DL-FER.ipynb",
      "provenance": [],
      "collapsed_sections": [],
      "authorship_tag": "ABX9TyOYnPEC/rSZ0LMuG5bMaMBd",
      "include_colab_link": true
    },
    "kernelspec": {
      "name": "python3",
      "display_name": "Python 3"
    },
    "language_info": {
      "name": "python"
    },
    "accelerator": "GPU",
    "gpuClass": "standard"
  },
  "cells": [
    {
      "cell_type": "markdown",
      "metadata": {
        "id": "view-in-github",
        "colab_type": "text"
      },
      "source": [
        "<a href=\"https://colab.research.google.com/github/DrKamaleshR/DL-FER/blob/main/DL_FER.ipynb\" target=\"_parent\"><img src=\"https://colab.research.google.com/assets/colab-badge.svg\" alt=\"Open In Colab\"/></a>"
      ]
    },
    {
      "cell_type": "code",
      "execution_count": null,
      "metadata": {
        "colab": {
          "base_uri": "https://localhost:8080/"
        },
        "id": "grUIOWyHHEsq",
        "outputId": "fb2522c7-58f2-490c-fefb-e69bc7ecb0da"
      },
      "outputs": [
        {
          "output_type": "stream",
          "name": "stdout",
          "text": [
            "Looking in indexes: https://pypi.org/simple, https://us-python.pkg.dev/colab-wheels/public/simple/\n",
            "Collecting deepface\n",
            "  Downloading deepface-0.0.75-py3-none-any.whl (65 kB)\n",
            "\u001b[K     |████████████████████████████████| 65 kB 2.7 MB/s \n",
            "\u001b[?25hCollecting fire>=0.4.0\n",
            "  Downloading fire-0.4.0.tar.gz (87 kB)\n",
            "\u001b[K     |████████████████████████████████| 87 kB 7.5 MB/s \n",
            "\u001b[?25hCollecting retina-face>=0.0.1\n",
            "  Downloading retina_face-0.0.12-py3-none-any.whl (15 kB)\n",
            "Requirement already satisfied: keras>=2.2.0 in /usr/local/lib/python3.7/dist-packages (from deepface) (2.8.0)\n",
            "Requirement already satisfied: opencv-python>=4.5.5.64 in /usr/local/lib/python3.7/dist-packages (from deepface) (4.6.0.66)\n",
            "Requirement already satisfied: numpy>=1.14.0 in /usr/local/lib/python3.7/dist-packages (from deepface) (1.21.6)\n",
            "Requirement already satisfied: pandas>=0.23.4 in /usr/local/lib/python3.7/dist-packages (from deepface) (1.3.5)\n",
            "Requirement already satisfied: tensorflow>=1.9.0 in /usr/local/lib/python3.7/dist-packages (from deepface) (2.8.2+zzzcolab20220719082949)\n",
            "Requirement already satisfied: tqdm>=4.30.0 in /usr/local/lib/python3.7/dist-packages (from deepface) (4.64.0)\n",
            "Requirement already satisfied: Flask>=1.1.2 in /usr/local/lib/python3.7/dist-packages (from deepface) (1.1.4)\n",
            "Requirement already satisfied: gdown>=3.10.1 in /usr/local/lib/python3.7/dist-packages (from deepface) (4.4.0)\n",
            "Collecting mtcnn>=0.1.0\n",
            "  Downloading mtcnn-0.1.1-py3-none-any.whl (2.3 MB)\n",
            "\u001b[K     |████████████████████████████████| 2.3 MB 54.2 MB/s \n",
            "\u001b[?25hRequirement already satisfied: Pillow>=5.2.0 in /usr/local/lib/python3.7/dist-packages (from deepface) (7.1.2)\n",
            "Requirement already satisfied: six in /usr/local/lib/python3.7/dist-packages (from fire>=0.4.0->deepface) (1.15.0)\n",
            "Requirement already satisfied: termcolor in /usr/local/lib/python3.7/dist-packages (from fire>=0.4.0->deepface) (1.1.0)\n",
            "Requirement already satisfied: itsdangerous<2.0,>=0.24 in /usr/local/lib/python3.7/dist-packages (from Flask>=1.1.2->deepface) (1.1.0)\n",
            "Requirement already satisfied: Jinja2<3.0,>=2.10.1 in /usr/local/lib/python3.7/dist-packages (from Flask>=1.1.2->deepface) (2.11.3)\n",
            "Requirement already satisfied: Werkzeug<2.0,>=0.15 in /usr/local/lib/python3.7/dist-packages (from Flask>=1.1.2->deepface) (1.0.1)\n",
            "Requirement already satisfied: click<8.0,>=5.1 in /usr/local/lib/python3.7/dist-packages (from Flask>=1.1.2->deepface) (7.1.2)\n",
            "Requirement already satisfied: beautifulsoup4 in /usr/local/lib/python3.7/dist-packages (from gdown>=3.10.1->deepface) (4.6.3)\n",
            "Requirement already satisfied: filelock in /usr/local/lib/python3.7/dist-packages (from gdown>=3.10.1->deepface) (3.7.1)\n",
            "Requirement already satisfied: requests[socks] in /usr/local/lib/python3.7/dist-packages (from gdown>=3.10.1->deepface) (2.23.0)\n",
            "Requirement already satisfied: MarkupSafe>=0.23 in /usr/local/lib/python3.7/dist-packages (from Jinja2<3.0,>=2.10.1->Flask>=1.1.2->deepface) (2.0.1)\n",
            "Requirement already satisfied: python-dateutil>=2.7.3 in /usr/local/lib/python3.7/dist-packages (from pandas>=0.23.4->deepface) (2.8.2)\n",
            "Requirement already satisfied: pytz>=2017.3 in /usr/local/lib/python3.7/dist-packages (from pandas>=0.23.4->deepface) (2022.1)\n",
            "Requirement already satisfied: libclang>=9.0.1 in /usr/local/lib/python3.7/dist-packages (from tensorflow>=1.9.0->deepface) (14.0.1)\n",
            "Requirement already satisfied: typing-extensions>=3.6.6 in /usr/local/lib/python3.7/dist-packages (from tensorflow>=1.9.0->deepface) (4.1.1)\n",
            "Requirement already satisfied: tensorflow-io-gcs-filesystem>=0.23.1 in /usr/local/lib/python3.7/dist-packages (from tensorflow>=1.9.0->deepface) (0.26.0)\n",
            "Requirement already satisfied: gast>=0.2.1 in /usr/local/lib/python3.7/dist-packages (from tensorflow>=1.9.0->deepface) (0.5.3)\n",
            "Requirement already satisfied: setuptools in /usr/local/lib/python3.7/dist-packages (from tensorflow>=1.9.0->deepface) (57.4.0)\n",
            "Requirement already satisfied: grpcio<2.0,>=1.24.3 in /usr/local/lib/python3.7/dist-packages (from tensorflow>=1.9.0->deepface) (1.47.0)\n",
            "Requirement already satisfied: h5py>=2.9.0 in /usr/local/lib/python3.7/dist-packages (from tensorflow>=1.9.0->deepface) (3.1.0)\n",
            "Requirement already satisfied: wrapt>=1.11.0 in /usr/local/lib/python3.7/dist-packages (from tensorflow>=1.9.0->deepface) (1.14.1)\n",
            "Requirement already satisfied: google-pasta>=0.1.1 in /usr/local/lib/python3.7/dist-packages (from tensorflow>=1.9.0->deepface) (0.2.0)\n",
            "Requirement already satisfied: flatbuffers>=1.12 in /usr/local/lib/python3.7/dist-packages (from tensorflow>=1.9.0->deepface) (2.0)\n",
            "Requirement already satisfied: tensorflow-estimator<2.9,>=2.8 in /usr/local/lib/python3.7/dist-packages (from tensorflow>=1.9.0->deepface) (2.8.0)\n",
            "Requirement already satisfied: keras-preprocessing>=1.1.1 in /usr/local/lib/python3.7/dist-packages (from tensorflow>=1.9.0->deepface) (1.1.2)\n",
            "Requirement already satisfied: tensorboard<2.9,>=2.8 in /usr/local/lib/python3.7/dist-packages (from tensorflow>=1.9.0->deepface) (2.8.0)\n",
            "Requirement already satisfied: absl-py>=0.4.0 in /usr/local/lib/python3.7/dist-packages (from tensorflow>=1.9.0->deepface) (1.2.0)\n",
            "Requirement already satisfied: protobuf<3.20,>=3.9.2 in /usr/local/lib/python3.7/dist-packages (from tensorflow>=1.9.0->deepface) (3.17.3)\n",
            "Requirement already satisfied: astunparse>=1.6.0 in /usr/local/lib/python3.7/dist-packages (from tensorflow>=1.9.0->deepface) (1.6.3)\n",
            "Requirement already satisfied: opt-einsum>=2.3.2 in /usr/local/lib/python3.7/dist-packages (from tensorflow>=1.9.0->deepface) (3.3.0)\n",
            "Requirement already satisfied: wheel<1.0,>=0.23.0 in /usr/local/lib/python3.7/dist-packages (from astunparse>=1.6.0->tensorflow>=1.9.0->deepface) (0.37.1)\n",
            "Requirement already satisfied: cached-property in /usr/local/lib/python3.7/dist-packages (from h5py>=2.9.0->tensorflow>=1.9.0->deepface) (1.5.2)\n",
            "Requirement already satisfied: google-auth<3,>=1.6.3 in /usr/local/lib/python3.7/dist-packages (from tensorboard<2.9,>=2.8->tensorflow>=1.9.0->deepface) (1.35.0)\n",
            "Requirement already satisfied: tensorboard-plugin-wit>=1.6.0 in /usr/local/lib/python3.7/dist-packages (from tensorboard<2.9,>=2.8->tensorflow>=1.9.0->deepface) (1.8.1)\n",
            "Requirement already satisfied: google-auth-oauthlib<0.5,>=0.4.1 in /usr/local/lib/python3.7/dist-packages (from tensorboard<2.9,>=2.8->tensorflow>=1.9.0->deepface) (0.4.6)\n",
            "Requirement already satisfied: markdown>=2.6.8 in /usr/local/lib/python3.7/dist-packages (from tensorboard<2.9,>=2.8->tensorflow>=1.9.0->deepface) (3.4.1)\n",
            "Requirement already satisfied: tensorboard-data-server<0.7.0,>=0.6.0 in /usr/local/lib/python3.7/dist-packages (from tensorboard<2.9,>=2.8->tensorflow>=1.9.0->deepface) (0.6.1)\n",
            "Requirement already satisfied: pyasn1-modules>=0.2.1 in /usr/local/lib/python3.7/dist-packages (from google-auth<3,>=1.6.3->tensorboard<2.9,>=2.8->tensorflow>=1.9.0->deepface) (0.2.8)\n",
            "Requirement already satisfied: rsa<5,>=3.1.4 in /usr/local/lib/python3.7/dist-packages (from google-auth<3,>=1.6.3->tensorboard<2.9,>=2.8->tensorflow>=1.9.0->deepface) (4.9)\n",
            "Requirement already satisfied: cachetools<5.0,>=2.0.0 in /usr/local/lib/python3.7/dist-packages (from google-auth<3,>=1.6.3->tensorboard<2.9,>=2.8->tensorflow>=1.9.0->deepface) (4.2.4)\n",
            "Requirement already satisfied: requests-oauthlib>=0.7.0 in /usr/local/lib/python3.7/dist-packages (from google-auth-oauthlib<0.5,>=0.4.1->tensorboard<2.9,>=2.8->tensorflow>=1.9.0->deepface) (1.3.1)\n",
            "Requirement already satisfied: importlib-metadata>=4.4 in /usr/local/lib/python3.7/dist-packages (from markdown>=2.6.8->tensorboard<2.9,>=2.8->tensorflow>=1.9.0->deepface) (4.12.0)\n",
            "Requirement already satisfied: zipp>=0.5 in /usr/local/lib/python3.7/dist-packages (from importlib-metadata>=4.4->markdown>=2.6.8->tensorboard<2.9,>=2.8->tensorflow>=1.9.0->deepface) (3.8.1)\n",
            "Requirement already satisfied: pyasn1<0.5.0,>=0.4.6 in /usr/local/lib/python3.7/dist-packages (from pyasn1-modules>=0.2.1->google-auth<3,>=1.6.3->tensorboard<2.9,>=2.8->tensorflow>=1.9.0->deepface) (0.4.8)\n",
            "Requirement already satisfied: idna<3,>=2.5 in /usr/local/lib/python3.7/dist-packages (from requests[socks]->gdown>=3.10.1->deepface) (2.10)\n",
            "Requirement already satisfied: urllib3!=1.25.0,!=1.25.1,<1.26,>=1.21.1 in /usr/local/lib/python3.7/dist-packages (from requests[socks]->gdown>=3.10.1->deepface) (1.24.3)\n",
            "Requirement already satisfied: chardet<4,>=3.0.2 in /usr/local/lib/python3.7/dist-packages (from requests[socks]->gdown>=3.10.1->deepface) (3.0.4)\n",
            "Requirement already satisfied: certifi>=2017.4.17 in /usr/local/lib/python3.7/dist-packages (from requests[socks]->gdown>=3.10.1->deepface) (2022.6.15)\n",
            "Requirement already satisfied: oauthlib>=3.0.0 in /usr/local/lib/python3.7/dist-packages (from requests-oauthlib>=0.7.0->google-auth-oauthlib<0.5,>=0.4.1->tensorboard<2.9,>=2.8->tensorflow>=1.9.0->deepface) (3.2.0)\n",
            "Requirement already satisfied: PySocks!=1.5.7,>=1.5.6 in /usr/local/lib/python3.7/dist-packages (from requests[socks]->gdown>=3.10.1->deepface) (1.7.1)\n",
            "Building wheels for collected packages: fire\n",
            "  Building wheel for fire (setup.py) ... \u001b[?25l\u001b[?25hdone\n",
            "  Created wheel for fire: filename=fire-0.4.0-py2.py3-none-any.whl size=115942 sha256=ef76447f8783b294be023947d9fb04b374030040788020aa9fcc470e8d8525cb\n",
            "  Stored in directory: /root/.cache/pip/wheels/8a/67/fb/2e8a12fa16661b9d5af1f654bd199366799740a85c64981226\n",
            "Successfully built fire\n",
            "Installing collected packages: retina-face, mtcnn, fire, deepface\n",
            "Successfully installed deepface-0.0.75 fire-0.4.0 mtcnn-0.1.1 retina-face-0.0.12\n"
          ]
        }
      ],
      "source": [
        "!pip install deepface"
      ]
    },
    {
      "cell_type": "code",
      "source": [
        "from google.colab import drive\n",
        "drive.mount('/content/drive')"
      ],
      "metadata": {
        "colab": {
          "base_uri": "https://localhost:8080/"
        },
        "id": "68YP5TghZKeV",
        "outputId": "2b7cd466-0764-4a7a-c33f-fd91053eff1a"
      },
      "execution_count": null,
      "outputs": [
        {
          "output_type": "stream",
          "name": "stdout",
          "text": [
            "Mounted at /content/drive\n"
          ]
        }
      ]
    },
    {
      "cell_type": "code",
      "source": [
        "%matplotlib inline \n",
        "import matplotlib.pyplot as plt\n",
        "\n",
        "import numpy as np\n",
        "import pandas as pd\n",
        "from tensorflow.keras.utils import to_categorical\n",
        "from sklearn.model_selection import train_test_split\n",
        "from sklearn.metrics import confusion_matrix\n",
        "\n",
        "from keras.models import Sequential #Initialise our neural network model as a sequential network\n",
        "from keras.layers import Conv2D #Convolution operation\n",
        "from keras.layers import BatchNormalization\n",
        "from keras.regularizers import l2\n",
        "from keras.layers import Activation#Applies activation function\n",
        "from keras.layers import Dropout#Prevents overfitting by randomly converting few outputs to zero\n",
        "from keras.layers import MaxPooling2D # Maxpooling function\n",
        "from keras.layers import Flatten # Converting 2D arrays into a 1D linear vector\n",
        "from keras.layers import Dense # Regular fully connected neural network\n",
        "from tensorflow.keras import optimizers\n",
        "from keras.callbacks import ReduceLROnPlateau, EarlyStopping, TensorBoard, ModelCheckpoint\n",
        "from sklearn.metrics import accuracy_score\n"
      ],
      "metadata": {
        "id": "xj3DIsD9s0IN"
      },
      "execution_count": null,
      "outputs": []
    },
    {
      "cell_type": "markdown",
      "source": [
        ""
      ],
      "metadata": {
        "id": "d5tCFA2EtA5a"
      }
    },
    {
      "cell_type": "code",
      "source": [
        "def load_data(dataset_path): #Run once\n",
        "  \n",
        "  #classes = ['Angry', 'Disgust', 'Fear', 'Happy', 'Sad', 'Surprsie', 'Neutral']  #We will be dealing with seven different types of emotions.\n",
        "\n",
        "  data = []\n",
        "  test_data = []\n",
        "  test_labels = []\n",
        "  labels =[]\n",
        "\n",
        "  with open(dataset_path, 'r') as file:\n",
        "      for line_no, line in enumerate(file.readlines()):\n",
        "          if 0 < line_no <= 35887:\n",
        "            curr_class, line, set_type = line.split(',')\n",
        "            image_data = np.asarray([int(x) for x in line.split()]).reshape(48, 48)#Creating a list out of the string then converting it into a 2-Dimensional numpy array.\n",
        "            image_data =image_data.astype(np.uint8)/255.0\n",
        "            \n",
        "            if (set_type.strip() == 'PrivateTest'):\n",
        "              \n",
        "              test_data.append(image_data)\n",
        "              test_labels.append(curr_class)\n",
        "            else:\n",
        "              data.append(image_data)\n",
        "              labels.append(curr_class)\n",
        "      \n",
        "      test_data = np.expand_dims(test_data, -1)\n",
        "      test_labels = to_categorical(test_labels, num_classes = 7)\n",
        "      data = np.expand_dims(data, -1)   \n",
        "      labels = to_categorical(labels, num_classes = 7)\n",
        "    \n",
        "      return np.array(data), np.array(labels), np.array(test_data), np.array(test_labels)\n"
      ],
      "metadata": {
        "id": "OCFAnbQDtGIV"
      },
      "execution_count": null,
      "outputs": []
    },
    {
      "cell_type": "code",
      "source": [
        ""
      ],
      "metadata": {
        "id": "PoNR8kPbx-Ky"
      },
      "execution_count": null,
      "outputs": []
    },
    {
      "cell_type": "code",
      "source": [
        "dataset_path = \"/content/drive/MyDrive/almabetter projects/DL-FER/fer2013.csv\" \n",
        "train_data, train_labels, test_data, test_labels = load_data(dataset_path)\n",
        "#train_data, test_data, train_labels, test_labels = train_test_split(data, labels, test_size = test_size,random_state = seed)\n",
        "\n",
        "print(\"Number of images in Training set:\", len(train_data))\n",
        "print(\"Number of images in Test set:\", len(test_data))"
      ],
      "metadata": {
        "colab": {
          "base_uri": "https://localhost:8080/"
        },
        "id": "4TzPh8TKtRNe",
        "outputId": "2abc3d4b-2daf-45a9-caa7-88470dfb064a"
      },
      "execution_count": null,
      "outputs": [
        {
          "output_type": "stream",
          "name": "stdout",
          "text": [
            "Number of images in Training set: 32298\n",
            "Number of images in Test set: 3589\n"
          ]
        }
      ]
    },
    {
      "cell_type": "markdown",
      "source": [
        ""
      ],
      "metadata": {
        "id": "oiurmQ77tAoU"
      }
    },
    {
      "cell_type": "code",
      "source": [
        "epochs = 50\n",
        "batch_size = 64\n",
        "learning_rate = 0.001\n",
        "#################################\n",
        "\n",
        "model = Sequential()\n",
        "    \n",
        "model.add(Conv2D(64, (3, 3), activation='relu', input_shape=(48, 48, 1), kernel_regularizer=l2(0.01)))\n",
        "model.add(Conv2D(64, (3, 3), padding='same',activation='relu'))\n",
        "model.add(BatchNormalization())\n",
        "model.add(MaxPooling2D(pool_size=(2,2), strides=(2, 2)))\n",
        "model.add(Dropout(0.5))\n",
        "    \n",
        "model.add(Conv2D(128, (3, 3), padding='same', activation='relu'))\n",
        "model.add(BatchNormalization())\n",
        "model.add(Conv2D(128, (3, 3), padding='same', activation='relu'))\n",
        "model.add(BatchNormalization())\n",
        "model.add(Conv2D(128, (3, 3), padding='same', activation='relu'))\n",
        "model.add(BatchNormalization())\n",
        "model.add(MaxPooling2D(pool_size=(2,2)))\n",
        "model.add(Dropout(0.5))\n",
        "    \n",
        "model.add(Conv2D(256, (3, 3), padding='same', activation='relu'))\n",
        "model.add(BatchNormalization())\n",
        "model.add(Conv2D(256, (3, 3), padding='same', activation='relu'))\n",
        "model.add(BatchNormalization())\n",
        "model.add(Conv2D(256, (3, 3), padding='same', activation='relu'))\n",
        "model.add(BatchNormalization())\n",
        "model.add(MaxPooling2D(pool_size=(2,2)))\n",
        "model.add(Dropout(0.5))\n",
        "    \n",
        "model.add(Conv2D(512, (3, 3), padding='same', activation='relu'))\n",
        "model.add(BatchNormalization())\n",
        "model.add(Conv2D(512, (3, 3), padding='same', activation='relu'))\n",
        "model.add(BatchNormalization())\n",
        "model.add(Conv2D(512, (3, 3), padding='same', activation='relu'))\n",
        "model.add(BatchNormalization())\n",
        "model.add(MaxPooling2D(pool_size=(2,2)))\n",
        "model.add(Dropout(0.5))\n",
        "    \n",
        "model.add(Flatten())\n",
        "\n",
        "model.add(Dense(512, activation='relu'))\n",
        "model.add(Dropout(0.5))\n",
        "\n",
        "model.add(Dense(256, activation='relu'))\n",
        "model.add(Dropout(0.5))\n",
        "\n",
        "model.add(Dense(128, activation='relu'))\n",
        "model.add(Dropout(0.5))\n",
        "\n",
        "model.add(Dense(64, activation='relu'))\n",
        "model.add(Dropout(0.5))\n",
        "\n",
        "model.add(Dense(7, activation='softmax'))\n",
        "\n",
        "adam = optimizers.Adam(lr = learning_rate)\n",
        "model.compile(optimizer = adam, loss = 'categorical_crossentropy', metrics = ['accuracy'])\n",
        "    \n",
        "print(model.summary())\n",
        "\n",
        "lr_reducer = ReduceLROnPlateau(monitor='val_loss', factor=0.9, patience=3)\n",
        "early_stopper = EarlyStopping(monitor='val_acc', min_delta=0, patience=6, mode='auto')\n",
        "checkpointer = ModelCheckpoint('/content/drive/MyDrive/almabetter projects/DL-FER/model(1).h5', monitor='val_loss', verbose=1, save_best_only=True)\n",
        "\n",
        "history = model.fit(\n",
        "          train_data,\n",
        "          train_labels,\n",
        "          epochs = epochs,\n",
        "          batch_size = batch_size,\n",
        "          validation_split = 0.2,\n",
        "          shuffle = True\n",
        "          )"
      ],
      "metadata": {
        "colab": {
          "base_uri": "https://localhost:8080/"
        },
        "outputId": "2780df4a-1e0f-4e77-fab3-ecf3135487f2",
        "id": "gutFYQa0BpFg"
      },
      "execution_count": null,
      "outputs": [
        {
          "output_type": "stream",
          "name": "stdout",
          "text": [
            "Model: \"sequential\"\n",
            "_________________________________________________________________\n",
            " Layer (type)                Output Shape              Param #   \n",
            "=================================================================\n",
            " conv2d (Conv2D)             (None, 46, 46, 64)        640       \n",
            "                                                                 \n",
            " conv2d_1 (Conv2D)           (None, 46, 46, 64)        36928     \n",
            "                                                                 \n",
            " batch_normalization (BatchN  (None, 46, 46, 64)       256       \n",
            " ormalization)                                                   \n",
            "                                                                 \n",
            " max_pooling2d (MaxPooling2D  (None, 23, 23, 64)       0         \n",
            " )                                                               \n",
            "                                                                 \n",
            " dropout (Dropout)           (None, 23, 23, 64)        0         \n",
            "                                                                 \n",
            " conv2d_2 (Conv2D)           (None, 23, 23, 128)       73856     \n",
            "                                                                 \n",
            " batch_normalization_1 (Batc  (None, 23, 23, 128)      512       \n",
            " hNormalization)                                                 \n",
            "                                                                 \n",
            " conv2d_3 (Conv2D)           (None, 23, 23, 128)       147584    \n",
            "                                                                 \n",
            " batch_normalization_2 (Batc  (None, 23, 23, 128)      512       \n",
            " hNormalization)                                                 \n",
            "                                                                 \n",
            " conv2d_4 (Conv2D)           (None, 23, 23, 128)       147584    \n",
            "                                                                 \n",
            " batch_normalization_3 (Batc  (None, 23, 23, 128)      512       \n",
            " hNormalization)                                                 \n",
            "                                                                 \n",
            " max_pooling2d_1 (MaxPooling  (None, 11, 11, 128)      0         \n",
            " 2D)                                                             \n",
            "                                                                 \n",
            " dropout_1 (Dropout)         (None, 11, 11, 128)       0         \n",
            "                                                                 \n",
            " conv2d_5 (Conv2D)           (None, 11, 11, 256)       295168    \n",
            "                                                                 \n",
            " batch_normalization_4 (Batc  (None, 11, 11, 256)      1024      \n",
            " hNormalization)                                                 \n",
            "                                                                 \n",
            " conv2d_6 (Conv2D)           (None, 11, 11, 256)       590080    \n",
            "                                                                 \n",
            " batch_normalization_5 (Batc  (None, 11, 11, 256)      1024      \n",
            " hNormalization)                                                 \n",
            "                                                                 \n",
            " conv2d_7 (Conv2D)           (None, 11, 11, 256)       590080    \n",
            "                                                                 \n",
            " batch_normalization_6 (Batc  (None, 11, 11, 256)      1024      \n",
            " hNormalization)                                                 \n",
            "                                                                 \n",
            " max_pooling2d_2 (MaxPooling  (None, 5, 5, 256)        0         \n",
            " 2D)                                                             \n",
            "                                                                 \n",
            " dropout_2 (Dropout)         (None, 5, 5, 256)         0         \n",
            "                                                                 \n",
            " conv2d_8 (Conv2D)           (None, 5, 5, 512)         1180160   \n",
            "                                                                 \n",
            " batch_normalization_7 (Batc  (None, 5, 5, 512)        2048      \n",
            " hNormalization)                                                 \n",
            "                                                                 \n",
            " conv2d_9 (Conv2D)           (None, 5, 5, 512)         2359808   \n",
            "                                                                 \n",
            " batch_normalization_8 (Batc  (None, 5, 5, 512)        2048      \n",
            " hNormalization)                                                 \n",
            "                                                                 \n",
            " conv2d_10 (Conv2D)          (None, 5, 5, 512)         2359808   \n",
            "                                                                 \n",
            " batch_normalization_9 (Batc  (None, 5, 5, 512)        2048      \n",
            " hNormalization)                                                 \n",
            "                                                                 \n",
            " max_pooling2d_3 (MaxPooling  (None, 2, 2, 512)        0         \n",
            " 2D)                                                             \n",
            "                                                                 \n",
            " dropout_3 (Dropout)         (None, 2, 2, 512)         0         \n",
            "                                                                 \n",
            " flatten (Flatten)           (None, 2048)              0         \n",
            "                                                                 \n",
            " dense (Dense)               (None, 512)               1049088   \n",
            "                                                                 \n",
            " dropout_4 (Dropout)         (None, 512)               0         \n",
            "                                                                 \n",
            " dense_1 (Dense)             (None, 256)               131328    \n",
            "                                                                 \n",
            " dropout_5 (Dropout)         (None, 256)               0         \n",
            "                                                                 \n",
            " dense_2 (Dense)             (None, 128)               32896     \n",
            "                                                                 \n",
            " dropout_6 (Dropout)         (None, 128)               0         \n",
            "                                                                 \n",
            " dense_3 (Dense)             (None, 64)                8256      \n",
            "                                                                 \n",
            " dropout_7 (Dropout)         (None, 64)                0         \n",
            "                                                                 \n",
            " dense_4 (Dense)             (None, 7)                 455       \n",
            "                                                                 \n",
            "=================================================================\n",
            "Total params: 9,014,727\n",
            "Trainable params: 9,009,223\n",
            "Non-trainable params: 5,504\n",
            "_________________________________________________________________\n"
          ]
        },
        {
          "output_type": "stream",
          "name": "stderr",
          "text": [
            "/usr/local/lib/python3.7/dist-packages/keras/optimizer_v2/adam.py:105: UserWarning: The `lr` argument is deprecated, use `learning_rate` instead.\n",
            "  super(Adam, self).__init__(name, **kwargs)\n"
          ]
        },
        {
          "output_type": "stream",
          "name": "stdout",
          "text": [
            "None\n",
            "Epoch 1/50\n",
            "404/404 [==============================] - 40s 68ms/step - loss: 2.1062 - accuracy: 0.2011 - val_loss: 1.8645 - val_accuracy: 0.2489\n",
            "Epoch 2/50\n",
            "404/404 [==============================] - 26s 64ms/step - loss: 1.8678 - accuracy: 0.2347 - val_loss: 1.8366 - val_accuracy: 0.2489\n",
            "Epoch 3/50\n",
            "404/404 [==============================] - 26s 65ms/step - loss: 1.8424 - accuracy: 0.2468 - val_loss: 1.8175 - val_accuracy: 0.2489\n",
            "Epoch 4/50\n",
            "404/404 [==============================] - 27s 66ms/step - loss: 1.8338 - accuracy: 0.2489 - val_loss: 1.8233 - val_accuracy: 0.2489\n",
            "Epoch 5/50\n",
            "404/404 [==============================] - 27s 66ms/step - loss: 1.8257 - accuracy: 0.2497 - val_loss: 1.8070 - val_accuracy: 0.2489\n",
            "Epoch 6/50\n",
            "404/404 [==============================] - 27s 66ms/step - loss: 1.8187 - accuracy: 0.2501 - val_loss: 1.8062 - val_accuracy: 0.2489\n",
            "Epoch 7/50\n",
            "404/404 [==============================] - 27s 66ms/step - loss: 1.8137 - accuracy: 0.2505 - val_loss: 1.8066 - val_accuracy: 0.2489\n",
            "Epoch 8/50\n",
            "404/404 [==============================] - 27s 66ms/step - loss: 1.8060 - accuracy: 0.2527 - val_loss: 1.8055 - val_accuracy: 0.2489\n",
            "Epoch 9/50\n",
            "404/404 [==============================] - 27s 66ms/step - loss: 1.7999 - accuracy: 0.2542 - val_loss: 1.8212 - val_accuracy: 0.2500\n",
            "Epoch 10/50\n",
            "404/404 [==============================] - 27s 66ms/step - loss: 1.7839 - accuracy: 0.2626 - val_loss: 1.9022 - val_accuracy: 0.2489\n",
            "Epoch 11/50\n",
            "404/404 [==============================] - 27s 66ms/step - loss: 1.7578 - accuracy: 0.2811 - val_loss: 1.8250 - val_accuracy: 0.2489\n",
            "Epoch 12/50\n",
            "404/404 [==============================] - 27s 66ms/step - loss: 1.6998 - accuracy: 0.3003 - val_loss: 1.8840 - val_accuracy: 0.2519\n",
            "Epoch 13/50\n",
            "404/404 [==============================] - 27s 66ms/step - loss: 1.6419 - accuracy: 0.3326 - val_loss: 1.7360 - val_accuracy: 0.2639\n",
            "Epoch 14/50\n",
            "404/404 [==============================] - 27s 67ms/step - loss: 1.5804 - accuracy: 0.3687 - val_loss: 1.4855 - val_accuracy: 0.4105\n",
            "Epoch 15/50\n",
            "404/404 [==============================] - 27s 66ms/step - loss: 1.5252 - accuracy: 0.3935 - val_loss: 1.5359 - val_accuracy: 0.3749\n",
            "Epoch 16/50\n",
            "404/404 [==============================] - 27s 66ms/step - loss: 1.5030 - accuracy: 0.4104 - val_loss: 1.4943 - val_accuracy: 0.3746\n",
            "Epoch 17/50\n",
            "404/404 [==============================] - 27s 66ms/step - loss: 1.4658 - accuracy: 0.4177 - val_loss: 1.4671 - val_accuracy: 0.4071\n",
            "Epoch 18/50\n",
            "404/404 [==============================] - 27s 66ms/step - loss: 1.4373 - accuracy: 0.4220 - val_loss: 1.3775 - val_accuracy: 0.4406\n",
            "Epoch 19/50\n",
            "404/404 [==============================] - 27s 66ms/step - loss: 1.4113 - accuracy: 0.4332 - val_loss: 1.3967 - val_accuracy: 0.4396\n",
            "Epoch 20/50\n",
            "404/404 [==============================] - 26s 66ms/step - loss: 1.4022 - accuracy: 0.4375 - val_loss: 1.3902 - val_accuracy: 0.4317\n",
            "Epoch 21/50\n",
            "404/404 [==============================] - 27s 66ms/step - loss: 1.3781 - accuracy: 0.4431 - val_loss: 1.3780 - val_accuracy: 0.4367\n",
            "Epoch 22/50\n",
            "404/404 [==============================] - 27s 66ms/step - loss: 1.3648 - accuracy: 0.4464 - val_loss: 1.5249 - val_accuracy: 0.3858\n",
            "Epoch 23/50\n",
            "404/404 [==============================] - 26s 66ms/step - loss: 1.3529 - accuracy: 0.4522 - val_loss: 1.3492 - val_accuracy: 0.4542\n",
            "Epoch 24/50\n",
            "404/404 [==============================] - 26s 66ms/step - loss: 1.3314 - accuracy: 0.4528 - val_loss: 1.3238 - val_accuracy: 0.4574\n",
            "Epoch 25/50\n",
            "404/404 [==============================] - 27s 66ms/step - loss: 1.3267 - accuracy: 0.4595 - val_loss: 1.3308 - val_accuracy: 0.4636\n",
            "Epoch 26/50\n",
            "404/404 [==============================] - 26s 66ms/step - loss: 1.3186 - accuracy: 0.4587 - val_loss: 1.2888 - val_accuracy: 0.4659\n",
            "Epoch 27/50\n",
            "404/404 [==============================] - 27s 66ms/step - loss: 1.2957 - accuracy: 0.4683 - val_loss: 1.2806 - val_accuracy: 0.4717\n",
            "Epoch 28/50\n",
            "404/404 [==============================] - 27s 67ms/step - loss: 1.2830 - accuracy: 0.4678 - val_loss: 1.3144 - val_accuracy: 0.4588\n",
            "Epoch 29/50\n",
            "404/404 [==============================] - 26s 66ms/step - loss: 1.2699 - accuracy: 0.4829 - val_loss: 1.3962 - val_accuracy: 0.4457\n",
            "Epoch 30/50\n",
            "404/404 [==============================] - 27s 66ms/step - loss: 1.2466 - accuracy: 0.5008 - val_loss: 1.3327 - val_accuracy: 0.4841\n",
            "Epoch 31/50\n",
            "404/404 [==============================] - 26s 66ms/step - loss: 1.2191 - accuracy: 0.5216 - val_loss: 1.2358 - val_accuracy: 0.5277\n",
            "Epoch 32/50\n",
            "404/404 [==============================] - 27s 66ms/step - loss: 1.2013 - accuracy: 0.5337 - val_loss: 1.2776 - val_accuracy: 0.5164\n",
            "Epoch 33/50\n",
            "404/404 [==============================] - 26s 66ms/step - loss: 1.1755 - accuracy: 0.5442 - val_loss: 1.2081 - val_accuracy: 0.5330\n",
            "Epoch 34/50\n",
            "404/404 [==============================] - 27s 66ms/step - loss: 1.1465 - accuracy: 0.5631 - val_loss: 1.2058 - val_accuracy: 0.5420\n",
            "Epoch 35/50\n",
            "404/404 [==============================] - 27s 67ms/step - loss: 1.1346 - accuracy: 0.5677 - val_loss: 1.2229 - val_accuracy: 0.5348\n",
            "Epoch 36/50\n",
            "404/404 [==============================] - 27s 66ms/step - loss: 1.1208 - accuracy: 0.5747 - val_loss: 1.1871 - val_accuracy: 0.5604\n",
            "Epoch 37/50\n",
            "404/404 [==============================] - 27s 66ms/step - loss: 1.0975 - accuracy: 0.5840 - val_loss: 1.1853 - val_accuracy: 0.5548\n",
            "Epoch 38/50\n",
            "404/404 [==============================] - 27s 66ms/step - loss: 1.0844 - accuracy: 0.5899 - val_loss: 1.2573 - val_accuracy: 0.5353\n",
            "Epoch 39/50\n",
            "404/404 [==============================] - 27s 67ms/step - loss: 1.0599 - accuracy: 0.6017 - val_loss: 1.2476 - val_accuracy: 0.5364\n",
            "Epoch 40/50\n",
            "404/404 [==============================] - 27s 66ms/step - loss: 1.0445 - accuracy: 0.6076 - val_loss: 1.2088 - val_accuracy: 0.5641\n",
            "Epoch 41/50\n",
            "404/404 [==============================] - 27s 67ms/step - loss: 1.0308 - accuracy: 0.6205 - val_loss: 1.2066 - val_accuracy: 0.5799\n",
            "Epoch 42/50\n",
            "404/404 [==============================] - 27s 66ms/step - loss: 1.0077 - accuracy: 0.6269 - val_loss: 1.2508 - val_accuracy: 0.5624\n",
            "Epoch 43/50\n",
            "404/404 [==============================] - 27s 67ms/step - loss: 0.9936 - accuracy: 0.6319 - val_loss: 1.2426 - val_accuracy: 0.5661\n",
            "Epoch 44/50\n",
            "404/404 [==============================] - 27s 67ms/step - loss: 0.9810 - accuracy: 0.6414 - val_loss: 1.1779 - val_accuracy: 0.5932\n",
            "Epoch 45/50\n",
            "404/404 [==============================] - 27s 66ms/step - loss: 0.9592 - accuracy: 0.6493 - val_loss: 1.1500 - val_accuracy: 0.6019\n",
            "Epoch 46/50\n",
            "404/404 [==============================] - 27s 66ms/step - loss: 0.9377 - accuracy: 0.6610 - val_loss: 1.2118 - val_accuracy: 0.5824\n",
            "Epoch 47/50\n",
            "404/404 [==============================] - 27s 67ms/step - loss: 0.9480 - accuracy: 0.6562 - val_loss: 1.1605 - val_accuracy: 0.5933\n",
            "Epoch 48/50\n",
            "404/404 [==============================] - 26s 66ms/step - loss: 0.9436 - accuracy: 0.6601 - val_loss: 1.1516 - val_accuracy: 0.5967\n",
            "Epoch 49/50\n",
            "404/404 [==============================] - 26s 66ms/step - loss: 0.9005 - accuracy: 0.6760 - val_loss: 1.2478 - val_accuracy: 0.5707\n",
            "Epoch 50/50\n",
            "404/404 [==============================] - 27s 66ms/step - loss: 0.8780 - accuracy: 0.6847 - val_loss: 1.2480 - val_accuracy: 0.5998\n"
          ]
        }
      ]
    },
    {
      "cell_type": "markdown",
      "source": [
        "### **Evaluation Metrics**"
      ],
      "metadata": {
        "id": "Svb93ASnHst2"
      }
    },
    {
      "cell_type": "code",
      "source": [
        "#checking accuracy\n",
        "predicted_test_labels = np.argmax(model.predict(test_data), axis=1)\n",
        "test_labels = np.argmax(test_labels, axis=1)\n",
        "print (\"Accuracy score = \", accuracy_score(test_labels, predicted_test_labels))\n",
        "print (\"Accuracy percentage = \", accuracy_score(test_labels, predicted_test_labels)*100, \"%\")"
      ],
      "metadata": {
        "id": "1zQ6kFejHwAE",
        "outputId": "6ca9f19f-502e-4a78-cde7-642b542b7474",
        "colab": {
          "base_uri": "https://localhost:8080/"
        }
      },
      "execution_count": null,
      "outputs": [
        {
          "output_type": "stream",
          "name": "stdout",
          "text": [
            "Accuracy score =  0.5934800780161605\n",
            "Accuracy percentage =  59.348007801616056 %\n"
          ]
        }
      ]
    }
  ]
}